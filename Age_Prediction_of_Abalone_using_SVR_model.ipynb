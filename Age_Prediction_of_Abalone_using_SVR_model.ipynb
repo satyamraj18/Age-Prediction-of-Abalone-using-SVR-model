{
  "nbformat": 4,
  "nbformat_minor": 0,
  "metadata": {
    "colab": {
      "name": "Age Prediction of Abalone using SVR model",
      "provenance": [],
      "collapsed_sections": [],
      "authorship_tag": "ABX9TyMfftkeyWUcJpIL1RtIFmWj",
      "include_colab_link": true
    },
    "kernelspec": {
      "name": "python3",
      "display_name": "Python 3"
    }
  },
  "cells": [
    {
      "cell_type": "markdown",
      "metadata": {
        "id": "view-in-github",
        "colab_type": "text"
      },
      "source": [
        "<a href=\"https://colab.research.google.com/github/satyamraj18/Age-Prediction-of-Abalone-using-SVR-model/blob/main/Age_Prediction_of_Abalone_using_SVR_model.ipynb\" target=\"_parent\"><img src=\"https://colab.research.google.com/assets/colab-badge.svg\" alt=\"Open In Colab\"/></a>"
      ]
    },
    {
      "cell_type": "markdown",
      "metadata": {
        "id": "mPJt2MPqoupa"
      },
      "source": [
        "## Importing Packages"
      ]
    },
    {
      "cell_type": "code",
      "metadata": {
        "id": "0eb9n1b8jkN3"
      },
      "source": [
        "import pandas as pd\n",
        "import matplotlib.pyplot as plt\n",
        "import numpy as np"
      ],
      "execution_count": null,
      "outputs": []
    },
    {
      "cell_type": "markdown",
      "metadata": {
        "id": "O-k9hxexpQua"
      },
      "source": [
        "## Importing Dataset"
      ]
    },
    {
      "cell_type": "code",
      "metadata": {
        "id": "MRWYCuQ9pUSQ"
      },
      "source": [
        "dataset = pd.read_csv(\"age_2.csv\")\n",
        "X = dataset.iloc[:, 1:-1].values\n",
        "y = dataset.iloc[:, -1].values\n",
        "#y = y.reshape(len(y),1)"
      ],
      "execution_count": null,
      "outputs": []
    },
    {
      "cell_type": "markdown",
      "metadata": {
        "id": "HtDx9yn6uCRW"
      },
      "source": [
        "## Missing Data"
      ]
    },
    {
      "cell_type": "code",
      "metadata": {
        "id": "_Fi9C1UYuFZO"
      },
      "source": [
        "from sklearn.impute import SimpleImputer \n",
        "imputer = SimpleImputer(missing_values=np.nan,strategy=\"mean\")\n",
        "imputer.fit(X[:, 0:-1])\n",
        "X[:, 0:-1] = imputer.transform(X[:, 0:-1])"
      ],
      "execution_count": null,
      "outputs": []
    },
    {
      "cell_type": "markdown",
      "metadata": {
        "id": "-Vqk4Q-d37CB"
      },
      "source": [
        "## Splitting the Dataset"
      ]
    },
    {
      "cell_type": "code",
      "metadata": {
        "id": "IRznQTYN4Bgw"
      },
      "source": [
        "from sklearn.model_selection import train_test_split\n",
        "X_train,X_test,y_train,y_test = train_test_split(X,y,test_size=0.2,random_state=0)"
      ],
      "execution_count": null,
      "outputs": []
    },
    {
      "cell_type": "markdown",
      "metadata": {
        "id": "Wm8TRE0c4bhg"
      },
      "source": [
        "## Scaling of Dependent Variable"
      ]
    },
    {
      "cell_type": "code",
      "metadata": {
        "id": "hQiD9E-P4g_Z"
      },
      "source": [
        "from sklearn.preprocessing import StandardScaler \n",
        "sc_y = StandardScaler()\n",
        "y_train = sc_y.fit_transform(y_train.reshape(len(y_train),1))\n",
        "y_test = sc_y.fit_transform(y_test.reshape(len(y_test),1))"
      ],
      "execution_count": null,
      "outputs": []
    },
    {
      "cell_type": "markdown",
      "metadata": {
        "id": "XnHk9I115EW2"
      },
      "source": [
        "## Training the SVR model"
      ]
    },
    {
      "cell_type": "code",
      "metadata": {
        "id": "gseJLm2S5HeN",
        "colab": {
          "base_uri": "https://localhost:8080/",
          "height": 105
        },
        "outputId": "5269f3d5-3053-47b9-c6a2-b6c412ddba6a"
      },
      "source": [
        "from sklearn.svm import SVR\n",
        "regressor = SVR(kernel = 'rbf')\n",
        "regressor.fit(X_train,y_train)"
      ],
      "execution_count": null,
      "outputs": [
        {
          "output_type": "stream",
          "text": [
            "/usr/local/lib/python3.6/dist-packages/sklearn/utils/validation.py:760: DataConversionWarning: A column-vector y was passed when a 1d array was expected. Please change the shape of y to (n_samples, ), for example using ravel().\n",
            "  y = column_or_1d(y, warn=True)\n"
          ],
          "name": "stderr"
        },
        {
          "output_type": "execute_result",
          "data": {
            "text/plain": [
              "SVR(C=1.0, cache_size=200, coef0=0.0, degree=3, epsilon=0.1, gamma='scale',\n",
              "    kernel='rbf', max_iter=-1, shrinking=True, tol=0.001, verbose=False)"
            ]
          },
          "metadata": {
            "tags": []
          },
          "execution_count": 21
        }
      ]
    },
    {
      "cell_type": "markdown",
      "metadata": {
        "id": "o8LrBM4d8NTT"
      },
      "source": [
        "## Visualizing the results"
      ]
    },
    {
      "cell_type": "code",
      "metadata": {
        "id": "DpXnnSzP8Qzh",
        "colab": {
          "base_uri": "https://localhost:8080/",
          "height": 136
        },
        "outputId": "f84b65a2-08a8-466e-c1bd-f06a8c86b90e"
      },
      "source": [
        "np.set_printoptions(precision=2)\n",
        "print(np.concatenate(((sc_y.inverse_transform(regressor.predict(X_test))).reshape(len(y_test),1),sc_y.inverse_transform(y_test.reshape(len(y_test),1))),1))"
      ],
      "execution_count": null,
      "outputs": [
        {
          "output_type": "stream",
          "text": [
            "[[13.97 13.  ]\n",
            " [ 9.35  8.  ]\n",
            " [ 9.85 11.  ]\n",
            " ...\n",
            " [ 8.09  7.  ]\n",
            " [12.33 17.  ]\n",
            " [ 4.79  4.  ]]\n"
          ],
          "name": "stdout"
        }
      ]
    }
  ]
}